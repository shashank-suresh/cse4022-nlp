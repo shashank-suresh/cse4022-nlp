{
 "cells": [
  {
   "cell_type": "markdown",
   "id": "c62460b8",
   "metadata": {},
   "source": [
    "## Count Vectorizer"
   ]
  },
  {
   "cell_type": "code",
   "execution_count": 42,
   "id": "aca7cc63",
   "metadata": {},
   "outputs": [],
   "source": [
    "from sklearn.feature_extraction.text import CountVectorizer"
   ]
  },
  {
   "cell_type": "code",
   "execution_count": 43,
   "id": "742cdb23",
   "metadata": {},
   "outputs": [],
   "source": [
    "vect = CountVectorizer(binary=True)\n",
    "corpus = [\"Bill Nye went to DC\", \"Science is great\", \"Bill Nye met George Washington through a time machine\"]"
   ]
  },
  {
   "cell_type": "code",
   "execution_count": 44,
   "id": "80947a6f",
   "metadata": {},
   "outputs": [
    {
     "data": {
      "text/plain": [
       "CountVectorizer(binary=True)"
      ]
     },
     "execution_count": 44,
     "metadata": {},
     "output_type": "execute_result"
    }
   ],
   "source": [
    "vect.fit(corpus)"
   ]
  },
  {
   "cell_type": "code",
   "execution_count": 45,
   "id": "80089d12",
   "metadata": {},
   "outputs": [
    {
     "data": {
      "text/plain": [
       "{'bill': 0,\n",
       " 'nye': 7,\n",
       " 'went': 13,\n",
       " 'to': 11,\n",
       " 'dc': 1,\n",
       " 'science': 8,\n",
       " 'is': 4,\n",
       " 'great': 3,\n",
       " 'met': 6,\n",
       " 'george': 2,\n",
       " 'washington': 12,\n",
       " 'through': 9,\n",
       " 'time': 10,\n",
       " 'machine': 5}"
      ]
     },
     "execution_count": 45,
     "metadata": {},
     "output_type": "execute_result"
    }
   ],
   "source": [
    "vocab = vect.vocabulary_\n",
    "vocab"
   ]
  },
  {
   "cell_type": "code",
   "execution_count": 46,
   "id": "cfc37ef2",
   "metadata": {},
   "outputs": [
    {
     "name": "stdout",
     "output_type": "stream",
     "text": [
      "bill 0\n",
      "dc 1\n",
      "george 2\n",
      "great 3\n",
      "is 4\n",
      "machine 5\n",
      "met 6\n",
      "nye 7\n",
      "science 8\n",
      "through 9\n",
      "time 10\n",
      "to 11\n",
      "washington 12\n",
      "went 13\n"
     ]
    }
   ],
   "source": [
    "for key in sorted(vocab.keys()):\n",
    "    print(key, vocab[key])"
   ]
  },
  {
   "cell_type": "code",
   "execution_count": 47,
   "id": "5982332c",
   "metadata": {},
   "outputs": [
    {
     "data": {
      "text/plain": [
       "array([[1, 0, 0, 0, 0, 0, 0, 1, 0, 0, 0, 0, 0, 0]], dtype=int64)"
      ]
     },
     "execution_count": 47,
     "metadata": {},
     "output_type": "execute_result"
    }
   ],
   "source": [
    "vect.transform([\"Was Bill Nye the Queen's rival?\"]).toarray()"
   ]
  },
  {
   "cell_type": "markdown",
   "id": "377083a2",
   "metadata": {},
   "source": [
    "## Similarity"
   ]
  },
  {
   "cell_type": "code",
   "execution_count": 48,
   "id": "4bd57670",
   "metadata": {},
   "outputs": [],
   "source": [
    "from sklearn.metrics.pairwise import cosine_similarity"
   ]
  },
  {
   "cell_type": "code",
   "execution_count": 49,
   "id": "230e1106",
   "metadata": {},
   "outputs": [
    {
     "data": {
      "text/plain": [
       "array([[0.81649658]])"
      ]
     },
     "execution_count": 49,
     "metadata": {},
     "output_type": "execute_result"
    }
   ],
   "source": [
    "# Similarity is dependent upon the corpus we use\n",
    "sim = cosine_similarity(vect.transform([\"Bill Nye the Physics Guy\"]).toarray(), vect.transform([\"Bill Nye the Science Guy\"]).toarray())\n",
    "sim"
   ]
  },
  {
   "cell_type": "markdown",
   "id": "7c6a9ed7",
   "metadata": {},
   "source": [
    "## TF IDF Vectorizer"
   ]
  },
  {
   "cell_type": "code",
   "execution_count": 35,
   "id": "7d29629c",
   "metadata": {},
   "outputs": [],
   "source": [
    "from sklearn.feature_extraction.text import TfidfVectorizer"
   ]
  },
  {
   "cell_type": "code",
   "execution_count": 36,
   "id": "5679dc72",
   "metadata": {},
   "outputs": [],
   "source": [
    "vect = TfidfVectorizer(binary=True)\n",
    "corpus = [\"Bill Nye went to DC\", \"Science is great\", \"Bill Nye met George Washington through a time machine\"]"
   ]
  },
  {
   "cell_type": "code",
   "execution_count": 37,
   "id": "27d6192d",
   "metadata": {},
   "outputs": [
    {
     "data": {
      "text/plain": [
       "TfidfVectorizer(binary=True)"
      ]
     },
     "execution_count": 37,
     "metadata": {},
     "output_type": "execute_result"
    }
   ],
   "source": [
    "vect.fit(corpus)"
   ]
  },
  {
   "cell_type": "code",
   "execution_count": 38,
   "id": "33fb85dd",
   "metadata": {},
   "outputs": [
    {
     "data": {
      "text/plain": [
       "{'bill': 0,\n",
       " 'nye': 7,\n",
       " 'went': 13,\n",
       " 'to': 11,\n",
       " 'dc': 1,\n",
       " 'science': 8,\n",
       " 'is': 4,\n",
       " 'great': 3,\n",
       " 'met': 6,\n",
       " 'george': 2,\n",
       " 'washington': 12,\n",
       " 'through': 9,\n",
       " 'time': 10,\n",
       " 'machine': 5}"
      ]
     },
     "execution_count": 38,
     "metadata": {},
     "output_type": "execute_result"
    }
   ],
   "source": [
    "vocab = vect.vocabulary_\n",
    "vocab"
   ]
  },
  {
   "cell_type": "code",
   "execution_count": 39,
   "id": "9d315829",
   "metadata": {},
   "outputs": [
    {
     "name": "stdout",
     "output_type": "stream",
     "text": [
      "bill 0\n",
      "dc 1\n",
      "george 2\n",
      "great 3\n",
      "is 4\n",
      "machine 5\n",
      "met 6\n",
      "nye 7\n",
      "science 8\n",
      "through 9\n",
      "time 10\n",
      "to 11\n",
      "washington 12\n",
      "went 13\n"
     ]
    }
   ],
   "source": [
    "for key in sorted(vocab.keys()):\n",
    "    print(key, vocab[key])"
   ]
  },
  {
   "cell_type": "code",
   "execution_count": 40,
   "id": "30c9a661",
   "metadata": {},
   "outputs": [
    {
     "data": {
      "text/plain": [
       "array([[0.70710678, 0.        , 0.        , 0.        , 0.        ,\n",
       "        0.        , 0.        , 0.70710678, 0.        , 0.        ,\n",
       "        0.        , 0.        , 0.        , 0.        ]])"
      ]
     },
     "execution_count": 40,
     "metadata": {},
     "output_type": "execute_result"
    }
   ],
   "source": [
    "vect.transform([\"Was Bill Nye the Queen's rival?\"]).toarray()"
   ]
  },
  {
   "cell_type": "markdown",
   "id": "9f2b6eee",
   "metadata": {},
   "source": [
    "## Similarity"
   ]
  },
  {
   "cell_type": "code",
   "execution_count": 41,
   "id": "2ed9acac",
   "metadata": {},
   "outputs": [
    {
     "data": {
      "text/plain": [
       "array([[0.73235914]])"
      ]
     },
     "execution_count": 41,
     "metadata": {},
     "output_type": "execute_result"
    }
   ],
   "source": [
    "sim = cosine_similarity(vect.transform([\"Bill Nye the Physics Guy\"]).toarray(), vect.transform([\"Bill Nye the Science Guy\"]).toarray())\n",
    "sim"
   ]
  },
  {
   "cell_type": "code",
   "execution_count": null,
   "id": "902e7b69",
   "metadata": {},
   "outputs": [],
   "source": []
  }
 ],
 "metadata": {
  "kernelspec": {
   "display_name": "Python 3",
   "language": "python",
   "name": "python3"
  },
  "language_info": {
   "codemirror_mode": {
    "name": "ipython",
    "version": 3
   },
   "file_extension": ".py",
   "mimetype": "text/x-python",
   "name": "python",
   "nbconvert_exporter": "python",
   "pygments_lexer": "ipython3",
   "version": "3.8.8"
  }
 },
 "nbformat": 4,
 "nbformat_minor": 5
}
